{
  "nbformat": 4,
  "nbformat_minor": 0,
  "metadata": {
    "colab": {
      "provenance": [],
      "collapsed_sections": [
        "oXCqPTRZDOp2",
        "s2z_GPdRH4HG",
        "jbgcqhpSH9_1",
        "v1LecSo9LvL7",
        "30pWjCQ3MiPv",
        "loS7_awKN08W",
        "ICasLBhGOMuE"
      ]
    },
    "kernelspec": {
      "name": "python3",
      "display_name": "Python 3"
    },
    "language_info": {
      "name": "python"
    }
  },
  "cells": [
    {
      "cell_type": "markdown",
      "source": [
        "# 🎓 **Taller 2.1: Análisis Exploratorio - Dataset Titanic**\n",
        "## 📊 Estadísticas Descriptivas Generales, Univariables y Multivariables"
      ],
      "metadata": {
        "id": "oXCqPTRZDOp2"
      }
    },
    {
      "cell_type": "markdown",
      "source": [
        "## OBJETIVOS DEL TALLER:\n",
        "* ✅ Obtener estadísticas descriptivas generales del dataset\n",
        "* ✅ Analizar variables individuales (univariables)\n",
        "* ✅ Explorar relaciones entre variables (multivariables)\n",
        "* ✅ Practicar visualizaciones básicas\n",
        "* ✅ Preparar datos para análisis avanzados"
      ],
      "metadata": {
        "id": "7upSBFL6RCda"
      }
    },
    {
      "cell_type": "markdown",
      "source": [
        "## 📝 INSTRUCCIONES PARA ENTREGA:\n",
        "\n",
        "1. **GUARDA ESTE NOTEBOOK** en tu Google Drive siguiendo esta convencion para el nombre del archivo:  NombreApellidoAnalisisExploratorioTitanic.ipynb\n",
        "2. **COMPLETA TODOS LOS TODOs** en las celdas siguientes\n",
        "3. **EJECUTA TODAS LAS CELDAS** y verifica que funcionen\n",
        "\n",
        "🎓 **RÚBRICA DE EVALUACIÓN:**\n",
        "- ✅ Código completo y funcional (50%)\n",
        "- ✅ Análisis correcto de estadísticas (30%)\n",
        "- ✅ Visualizaciones adecuadas (10%)\n",
        "- ✅ Reporte claro de hallazgos (10%)"
      ],
      "metadata": {
        "id": "tqKc5l87QbkP"
      }
    },
    {
      "cell_type": "markdown",
      "source": [
        "# 🔧 **CONFIGURACIÓN INICIAL**"
      ],
      "metadata": {
        "id": "s2z_GPdRH4HG"
      }
    },
    {
      "cell_type": "code",
      "source": [
        "# Configuración e importación de librerías\n",
        "import pandas as pd\n",
        "import numpy as np\n",
        "import matplotlib.pyplot as plt\n",
        "import seaborn as sns\n",
        "from google.colab import drive\n",
        "import os\n",
        "\n",
        "# Configurar estilo de gráficos\n",
        "plt.style.use('seaborn-v0_8')\n",
        "sns.set_palette(\"husl\")\n",
        "\n",
        "# Montar Google Drive\n",
        "drive.mount('/content/drive')\n",
        "CURSO = \"AprendizajeAutomatico2025\"\n",
        "BASE_FOLDER = \"/content/drive/MyDrive/Colab Notebooks\"\n",
        "RUTA_CURSO = os.path.join(BASE_FOLDER, CURSO)\n",
        "\n",
        "# Crear directorio\n",
        "os.makedirs(BASE_FOLDER, exist_ok=True)"
      ],
      "metadata": {
        "colab": {
          "base_uri": "https://localhost:8080/"
        },
        "id": "i-Xg1lLJDUak",
        "outputId": "ab9e36bf-4fd9-4480-bb44-bbf0a21e5f98"
      },
      "execution_count": 1,
      "outputs": [
        {
          "output_type": "stream",
          "name": "stdout",
          "text": [
            "Mounted at /content/drive\n"
          ]
        }
      ]
    },
    {
      "cell_type": "markdown",
      "source": [
        "# 📁 **LECTURA DEL DATASET**"
      ],
      "metadata": {
        "id": "jbgcqhpSH9_1"
      }
    },
    {
      "cell_type": "code",
      "source": [
        "# Cargar dataset Titanic\n",
        "def cargar_dataset():\n",
        "    try:\n",
        "      path = RUTA_CURSO + '/data/titanic.csv'\n",
        "      df = pd.DataFrame(pd.read_csv(path))\n",
        "      return df\n",
        "    except:\n",
        "        try:\n",
        "            # Intentar cargar desde URL alternativa\n",
        "            url = \"https://raw.githubusercontent.com/SandraNavarrete-docente/aprendizaje-automatico-252601/main/02-PREPROCESAMIENTO/data/titanic.csv\"\n",
        "            df = pd.read_csv(url)\n",
        "            print(\"✅ Dataset cargado desde URL GitHub\")\n",
        "            return df\n",
        "        except:\n",
        "            print(\"❌ No se pudo cargar el dataset\")\n",
        "            return None"
      ],
      "metadata": {
        "id": "ejuHthB-Hydr"
      },
      "execution_count": 2,
      "outputs": []
    },
    {
      "cell_type": "code",
      "source": [
        "# Cargar dataset\n",
        "titanic_df = cargar_dataset()\n",
        "\n",
        "if titanic_df is not None:\n",
        "    print(f\"📊 Dataset cargado: {titanic_df.shape[0]} filas, {titanic_df.shape[1]} columnas\")\n",
        "    print(\"🔍 Primeras filas:\")\n",
        "    display(titanic_df.head())\n",
        "else:\n",
        "    print(\"⚠️ No se pudo cargar el dataset. Revisa la ruta en Drive.\")"
      ],
      "metadata": {
        "colab": {
          "base_uri": "https://localhost:8080/",
          "height": 258
        },
        "id": "lYEdHd7ULeYd",
        "outputId": "9fa75bce-83b6-4e02-c352-dfea5c20867c"
      },
      "execution_count": 4,
      "outputs": [
        {
          "output_type": "stream",
          "name": "stdout",
          "text": [
            "✅ Dataset cargado desde URL GitHub\n",
            "📊 Dataset cargado: 891 filas, 12 columnas\n",
            "🔍 Primeras filas:\n"
          ]
        },
        {
          "output_type": "display_data",
          "data": {
            "text/plain": [
              "   PassengerId  Survived  Pclass  \\\n",
              "0            1         0       3   \n",
              "1            2         1       1   \n",
              "2            3         1       3   \n",
              "3            4         1       1   \n",
              "4            5         0       3   \n",
              "\n",
              "                                                Name     Sex   Age  SibSp  \\\n",
              "0                            Braund, Mr. Owen Harris    male  22.0      1   \n",
              "1  Cumings, Mrs. John Bradley (Florence Briggs Th...  female  38.0      1   \n",
              "2                             Heikkinen, Miss. Laina  female  26.0      0   \n",
              "3       Futrelle, Mrs. Jacques Heath (Lily May Peel)  female  35.0      1   \n",
              "4                           Allen, Mr. William Henry    male  35.0      0   \n",
              "\n",
              "   Parch            Ticket     Fare Cabin Embarked  \n",
              "0      0         A/5 21171   7.2500   NaN        S  \n",
              "1      0          PC 17599  71.2833   C85        C  \n",
              "2      0  STON/O2. 3101282   7.9250   NaN        S  \n",
              "3      0            113803  53.1000  C123        S  \n",
              "4      0            373450   8.0500   NaN        S  "
            ],
            "text/html": [
              "\n",
              "  <div id=\"df-7c76ab71-b8f4-4e4b-ab34-31df5025f7c5\" class=\"colab-df-container\">\n",
              "    <div>\n",
              "<style scoped>\n",
              "    .dataframe tbody tr th:only-of-type {\n",
              "        vertical-align: middle;\n",
              "    }\n",
              "\n",
              "    .dataframe tbody tr th {\n",
              "        vertical-align: top;\n",
              "    }\n",
              "\n",
              "    .dataframe thead th {\n",
              "        text-align: right;\n",
              "    }\n",
              "</style>\n",
              "<table border=\"1\" class=\"dataframe\">\n",
              "  <thead>\n",
              "    <tr style=\"text-align: right;\">\n",
              "      <th></th>\n",
              "      <th>PassengerId</th>\n",
              "      <th>Survived</th>\n",
              "      <th>Pclass</th>\n",
              "      <th>Name</th>\n",
              "      <th>Sex</th>\n",
              "      <th>Age</th>\n",
              "      <th>SibSp</th>\n",
              "      <th>Parch</th>\n",
              "      <th>Ticket</th>\n",
              "      <th>Fare</th>\n",
              "      <th>Cabin</th>\n",
              "      <th>Embarked</th>\n",
              "    </tr>\n",
              "  </thead>\n",
              "  <tbody>\n",
              "    <tr>\n",
              "      <th>0</th>\n",
              "      <td>1</td>\n",
              "      <td>0</td>\n",
              "      <td>3</td>\n",
              "      <td>Braund, Mr. Owen Harris</td>\n",
              "      <td>male</td>\n",
              "      <td>22.0</td>\n",
              "      <td>1</td>\n",
              "      <td>0</td>\n",
              "      <td>A/5 21171</td>\n",
              "      <td>7.2500</td>\n",
              "      <td>NaN</td>\n",
              "      <td>S</td>\n",
              "    </tr>\n",
              "    <tr>\n",
              "      <th>1</th>\n",
              "      <td>2</td>\n",
              "      <td>1</td>\n",
              "      <td>1</td>\n",
              "      <td>Cumings, Mrs. John Bradley (Florence Briggs Th...</td>\n",
              "      <td>female</td>\n",
              "      <td>38.0</td>\n",
              "      <td>1</td>\n",
              "      <td>0</td>\n",
              "      <td>PC 17599</td>\n",
              "      <td>71.2833</td>\n",
              "      <td>C85</td>\n",
              "      <td>C</td>\n",
              "    </tr>\n",
              "    <tr>\n",
              "      <th>2</th>\n",
              "      <td>3</td>\n",
              "      <td>1</td>\n",
              "      <td>3</td>\n",
              "      <td>Heikkinen, Miss. Laina</td>\n",
              "      <td>female</td>\n",
              "      <td>26.0</td>\n",
              "      <td>0</td>\n",
              "      <td>0</td>\n",
              "      <td>STON/O2. 3101282</td>\n",
              "      <td>7.9250</td>\n",
              "      <td>NaN</td>\n",
              "      <td>S</td>\n",
              "    </tr>\n",
              "    <tr>\n",
              "      <th>3</th>\n",
              "      <td>4</td>\n",
              "      <td>1</td>\n",
              "      <td>1</td>\n",
              "      <td>Futrelle, Mrs. Jacques Heath (Lily May Peel)</td>\n",
              "      <td>female</td>\n",
              "      <td>35.0</td>\n",
              "      <td>1</td>\n",
              "      <td>0</td>\n",
              "      <td>113803</td>\n",
              "      <td>53.1000</td>\n",
              "      <td>C123</td>\n",
              "      <td>S</td>\n",
              "    </tr>\n",
              "    <tr>\n",
              "      <th>4</th>\n",
              "      <td>5</td>\n",
              "      <td>0</td>\n",
              "      <td>3</td>\n",
              "      <td>Allen, Mr. William Henry</td>\n",
              "      <td>male</td>\n",
              "      <td>35.0</td>\n",
              "      <td>0</td>\n",
              "      <td>0</td>\n",
              "      <td>373450</td>\n",
              "      <td>8.0500</td>\n",
              "      <td>NaN</td>\n",
              "      <td>S</td>\n",
              "    </tr>\n",
              "  </tbody>\n",
              "</table>\n",
              "</div>\n",
              "    <div class=\"colab-df-buttons\">\n",
              "\n",
              "  <div class=\"colab-df-container\">\n",
              "    <button class=\"colab-df-convert\" onclick=\"convertToInteractive('df-7c76ab71-b8f4-4e4b-ab34-31df5025f7c5')\"\n",
              "            title=\"Convert this dataframe to an interactive table.\"\n",
              "            style=\"display:none;\">\n",
              "\n",
              "  <svg xmlns=\"http://www.w3.org/2000/svg\" height=\"24px\" viewBox=\"0 -960 960 960\">\n",
              "    <path d=\"M120-120v-720h720v720H120Zm60-500h600v-160H180v160Zm220 220h160v-160H400v160Zm0 220h160v-160H400v160ZM180-400h160v-160H180v160Zm440 0h160v-160H620v160ZM180-180h160v-160H180v160Zm440 0h160v-160H620v160Z\"/>\n",
              "  </svg>\n",
              "    </button>\n",
              "\n",
              "  <style>\n",
              "    .colab-df-container {\n",
              "      display:flex;\n",
              "      gap: 12px;\n",
              "    }\n",
              "\n",
              "    .colab-df-convert {\n",
              "      background-color: #E8F0FE;\n",
              "      border: none;\n",
              "      border-radius: 50%;\n",
              "      cursor: pointer;\n",
              "      display: none;\n",
              "      fill: #1967D2;\n",
              "      height: 32px;\n",
              "      padding: 0 0 0 0;\n",
              "      width: 32px;\n",
              "    }\n",
              "\n",
              "    .colab-df-convert:hover {\n",
              "      background-color: #E2EBFA;\n",
              "      box-shadow: 0px 1px 2px rgba(60, 64, 67, 0.3), 0px 1px 3px 1px rgba(60, 64, 67, 0.15);\n",
              "      fill: #174EA6;\n",
              "    }\n",
              "\n",
              "    .colab-df-buttons div {\n",
              "      margin-bottom: 4px;\n",
              "    }\n",
              "\n",
              "    [theme=dark] .colab-df-convert {\n",
              "      background-color: #3B4455;\n",
              "      fill: #D2E3FC;\n",
              "    }\n",
              "\n",
              "    [theme=dark] .colab-df-convert:hover {\n",
              "      background-color: #434B5C;\n",
              "      box-shadow: 0px 1px 3px 1px rgba(0, 0, 0, 0.15);\n",
              "      filter: drop-shadow(0px 1px 2px rgba(0, 0, 0, 0.3));\n",
              "      fill: #FFFFFF;\n",
              "    }\n",
              "  </style>\n",
              "\n",
              "    <script>\n",
              "      const buttonEl =\n",
              "        document.querySelector('#df-7c76ab71-b8f4-4e4b-ab34-31df5025f7c5 button.colab-df-convert');\n",
              "      buttonEl.style.display =\n",
              "        google.colab.kernel.accessAllowed ? 'block' : 'none';\n",
              "\n",
              "      async function convertToInteractive(key) {\n",
              "        const element = document.querySelector('#df-7c76ab71-b8f4-4e4b-ab34-31df5025f7c5');\n",
              "        const dataTable =\n",
              "          await google.colab.kernel.invokeFunction('convertToInteractive',\n",
              "                                                    [key], {});\n",
              "        if (!dataTable) return;\n",
              "\n",
              "        const docLinkHtml = 'Like what you see? Visit the ' +\n",
              "          '<a target=\"_blank\" href=https://colab.research.google.com/notebooks/data_table.ipynb>data table notebook</a>'\n",
              "          + ' to learn more about interactive tables.';\n",
              "        element.innerHTML = '';\n",
              "        dataTable['output_type'] = 'display_data';\n",
              "        await google.colab.output.renderOutput(dataTable, element);\n",
              "        const docLink = document.createElement('div');\n",
              "        docLink.innerHTML = docLinkHtml;\n",
              "        element.appendChild(docLink);\n",
              "      }\n",
              "    </script>\n",
              "  </div>\n",
              "\n",
              "\n",
              "    <div id=\"df-60e7f9ea-cda9-4b94-afdf-510f9bb13279\">\n",
              "      <button class=\"colab-df-quickchart\" onclick=\"quickchart('df-60e7f9ea-cda9-4b94-afdf-510f9bb13279')\"\n",
              "                title=\"Suggest charts\"\n",
              "                style=\"display:none;\">\n",
              "\n",
              "<svg xmlns=\"http://www.w3.org/2000/svg\" height=\"24px\"viewBox=\"0 0 24 24\"\n",
              "     width=\"24px\">\n",
              "    <g>\n",
              "        <path d=\"M19 3H5c-1.1 0-2 .9-2 2v14c0 1.1.9 2 2 2h14c1.1 0 2-.9 2-2V5c0-1.1-.9-2-2-2zM9 17H7v-7h2v7zm4 0h-2V7h2v10zm4 0h-2v-4h2v4z\"/>\n",
              "    </g>\n",
              "</svg>\n",
              "      </button>\n",
              "\n",
              "<style>\n",
              "  .colab-df-quickchart {\n",
              "      --bg-color: #E8F0FE;\n",
              "      --fill-color: #1967D2;\n",
              "      --hover-bg-color: #E2EBFA;\n",
              "      --hover-fill-color: #174EA6;\n",
              "      --disabled-fill-color: #AAA;\n",
              "      --disabled-bg-color: #DDD;\n",
              "  }\n",
              "\n",
              "  [theme=dark] .colab-df-quickchart {\n",
              "      --bg-color: #3B4455;\n",
              "      --fill-color: #D2E3FC;\n",
              "      --hover-bg-color: #434B5C;\n",
              "      --hover-fill-color: #FFFFFF;\n",
              "      --disabled-bg-color: #3B4455;\n",
              "      --disabled-fill-color: #666;\n",
              "  }\n",
              "\n",
              "  .colab-df-quickchart {\n",
              "    background-color: var(--bg-color);\n",
              "    border: none;\n",
              "    border-radius: 50%;\n",
              "    cursor: pointer;\n",
              "    display: none;\n",
              "    fill: var(--fill-color);\n",
              "    height: 32px;\n",
              "    padding: 0;\n",
              "    width: 32px;\n",
              "  }\n",
              "\n",
              "  .colab-df-quickchart:hover {\n",
              "    background-color: var(--hover-bg-color);\n",
              "    box-shadow: 0 1px 2px rgba(60, 64, 67, 0.3), 0 1px 3px 1px rgba(60, 64, 67, 0.15);\n",
              "    fill: var(--button-hover-fill-color);\n",
              "  }\n",
              "\n",
              "  .colab-df-quickchart-complete:disabled,\n",
              "  .colab-df-quickchart-complete:disabled:hover {\n",
              "    background-color: var(--disabled-bg-color);\n",
              "    fill: var(--disabled-fill-color);\n",
              "    box-shadow: none;\n",
              "  }\n",
              "\n",
              "  .colab-df-spinner {\n",
              "    border: 2px solid var(--fill-color);\n",
              "    border-color: transparent;\n",
              "    border-bottom-color: var(--fill-color);\n",
              "    animation:\n",
              "      spin 1s steps(1) infinite;\n",
              "  }\n",
              "\n",
              "  @keyframes spin {\n",
              "    0% {\n",
              "      border-color: transparent;\n",
              "      border-bottom-color: var(--fill-color);\n",
              "      border-left-color: var(--fill-color);\n",
              "    }\n",
              "    20% {\n",
              "      border-color: transparent;\n",
              "      border-left-color: var(--fill-color);\n",
              "      border-top-color: var(--fill-color);\n",
              "    }\n",
              "    30% {\n",
              "      border-color: transparent;\n",
              "      border-left-color: var(--fill-color);\n",
              "      border-top-color: var(--fill-color);\n",
              "      border-right-color: var(--fill-color);\n",
              "    }\n",
              "    40% {\n",
              "      border-color: transparent;\n",
              "      border-right-color: var(--fill-color);\n",
              "      border-top-color: var(--fill-color);\n",
              "    }\n",
              "    60% {\n",
              "      border-color: transparent;\n",
              "      border-right-color: var(--fill-color);\n",
              "    }\n",
              "    80% {\n",
              "      border-color: transparent;\n",
              "      border-right-color: var(--fill-color);\n",
              "      border-bottom-color: var(--fill-color);\n",
              "    }\n",
              "    90% {\n",
              "      border-color: transparent;\n",
              "      border-bottom-color: var(--fill-color);\n",
              "    }\n",
              "  }\n",
              "</style>\n",
              "\n",
              "      <script>\n",
              "        async function quickchart(key) {\n",
              "          const quickchartButtonEl =\n",
              "            document.querySelector('#' + key + ' button');\n",
              "          quickchartButtonEl.disabled = true;  // To prevent multiple clicks.\n",
              "          quickchartButtonEl.classList.add('colab-df-spinner');\n",
              "          try {\n",
              "            const charts = await google.colab.kernel.invokeFunction(\n",
              "                'suggestCharts', [key], {});\n",
              "          } catch (error) {\n",
              "            console.error('Error during call to suggestCharts:', error);\n",
              "          }\n",
              "          quickchartButtonEl.classList.remove('colab-df-spinner');\n",
              "          quickchartButtonEl.classList.add('colab-df-quickchart-complete');\n",
              "        }\n",
              "        (() => {\n",
              "          let quickchartButtonEl =\n",
              "            document.querySelector('#df-60e7f9ea-cda9-4b94-afdf-510f9bb13279 button');\n",
              "          quickchartButtonEl.style.display =\n",
              "            google.colab.kernel.accessAllowed ? 'block' : 'none';\n",
              "        })();\n",
              "      </script>\n",
              "    </div>\n",
              "\n",
              "    </div>\n",
              "  </div>\n"
            ],
            "application/vnd.google.colaboratory.intrinsic+json": {
              "type": "dataframe",
              "summary": "{\n  \"name\": \"    print(\\\"\\u26a0\\ufe0f No se pudo cargar el dataset\",\n  \"rows\": 5,\n  \"fields\": [\n    {\n      \"column\": \"PassengerId\",\n      \"properties\": {\n        \"dtype\": \"number\",\n        \"std\": 1,\n        \"min\": 1,\n        \"max\": 5,\n        \"num_unique_values\": 5,\n        \"samples\": [\n          2,\n          5,\n          3\n        ],\n        \"semantic_type\": \"\",\n        \"description\": \"\"\n      }\n    },\n    {\n      \"column\": \"Survived\",\n      \"properties\": {\n        \"dtype\": \"number\",\n        \"std\": 0,\n        \"min\": 0,\n        \"max\": 1,\n        \"num_unique_values\": 2,\n        \"samples\": [\n          1,\n          0\n        ],\n        \"semantic_type\": \"\",\n        \"description\": \"\"\n      }\n    },\n    {\n      \"column\": \"Pclass\",\n      \"properties\": {\n        \"dtype\": \"number\",\n        \"std\": 1,\n        \"min\": 1,\n        \"max\": 3,\n        \"num_unique_values\": 2,\n        \"samples\": [\n          1,\n          3\n        ],\n        \"semantic_type\": \"\",\n        \"description\": \"\"\n      }\n    },\n    {\n      \"column\": \"Name\",\n      \"properties\": {\n        \"dtype\": \"string\",\n        \"num_unique_values\": 5,\n        \"samples\": [\n          \"Cumings, Mrs. John Bradley (Florence Briggs Thayer)\",\n          \"Allen, Mr. William Henry\"\n        ],\n        \"semantic_type\": \"\",\n        \"description\": \"\"\n      }\n    },\n    {\n      \"column\": \"Sex\",\n      \"properties\": {\n        \"dtype\": \"category\",\n        \"num_unique_values\": 2,\n        \"samples\": [\n          \"female\",\n          \"male\"\n        ],\n        \"semantic_type\": \"\",\n        \"description\": \"\"\n      }\n    },\n    {\n      \"column\": \"Age\",\n      \"properties\": {\n        \"dtype\": \"number\",\n        \"std\": 6.833739825307955,\n        \"min\": 22.0,\n        \"max\": 38.0,\n        \"num_unique_values\": 4,\n        \"samples\": [\n          38.0,\n          35.0\n        ],\n        \"semantic_type\": \"\",\n        \"description\": \"\"\n      }\n    },\n    {\n      \"column\": \"SibSp\",\n      \"properties\": {\n        \"dtype\": \"number\",\n        \"std\": 0,\n        \"min\": 0,\n        \"max\": 1,\n        \"num_unique_values\": 2,\n        \"samples\": [\n          0,\n          1\n        ],\n        \"semantic_type\": \"\",\n        \"description\": \"\"\n      }\n    },\n    {\n      \"column\": \"Parch\",\n      \"properties\": {\n        \"dtype\": \"number\",\n        \"std\": 0,\n        \"min\": 0,\n        \"max\": 0,\n        \"num_unique_values\": 1,\n        \"samples\": [\n          0\n        ],\n        \"semantic_type\": \"\",\n        \"description\": \"\"\n      }\n    },\n    {\n      \"column\": \"Ticket\",\n      \"properties\": {\n        \"dtype\": \"string\",\n        \"num_unique_values\": 5,\n        \"samples\": [\n          \"PC 17599\"\n        ],\n        \"semantic_type\": \"\",\n        \"description\": \"\"\n      }\n    },\n    {\n      \"column\": \"Fare\",\n      \"properties\": {\n        \"dtype\": \"number\",\n        \"std\": 30.5100288352535,\n        \"min\": 7.25,\n        \"max\": 71.2833,\n        \"num_unique_values\": 5,\n        \"samples\": [\n          71.2833\n        ],\n        \"semantic_type\": \"\",\n        \"description\": \"\"\n      }\n    },\n    {\n      \"column\": \"Cabin\",\n      \"properties\": {\n        \"dtype\": \"category\",\n        \"num_unique_values\": 2,\n        \"samples\": [\n          \"C123\"\n        ],\n        \"semantic_type\": \"\",\n        \"description\": \"\"\n      }\n    },\n    {\n      \"column\": \"Embarked\",\n      \"properties\": {\n        \"dtype\": \"category\",\n        \"num_unique_values\": 2,\n        \"samples\": [\n          \"C\"\n        ],\n        \"semantic_type\": \"\",\n        \"description\": \"\"\n      }\n    }\n  ]\n}"
            }
          },
          "metadata": {}
        }
      ]
    },
    {
      "cell_type": "markdown",
      "source": [
        "# 🎯 **EJERCICIO 1: ESTADÍSTICAS DESCRIPTIVAS GENERALES**"
      ],
      "metadata": {
        "id": "v1LecSo9LvL7"
      }
    },
    {
      "cell_type": "code",
      "source": [
        "def obtener_estadisticas_generales(df):\n",
        "    estadisticas = {}\n",
        "    # TODO 1.1: Obtener número total de pasajeros\n",
        "    estadisticas['total_pasajeros'] = None  # ← COMPLETAR\n",
        "\n",
        "    # TODO 1.2: Obtener número de columnas\n",
        "    estadisticas['total_columnas'] = None   # ← COMPLETAR\n",
        "\n",
        "    # TODO 1.3: Obtener tipos de datos únicos\n",
        "    estadisticas['tipos_datos'] = None      # ← COMPLETAR\n",
        "\n",
        "    # TODO 1.4: Calcular porcentaje de supervivencia general\n",
        "    estadisticas['tasa_supervivencia'] = None  # ← COMPLETAR\n",
        "\n",
        "    return estadisticas"
      ],
      "metadata": {
        "id": "UxOp1ucrLpkD"
      },
      "execution_count": null,
      "outputs": []
    },
    {
      "cell_type": "code",
      "source": [
        "# Ejecutar funciones\n",
        "print(\"🔍 Ejecutando análisis general...\")\n",
        "estadisticas = obtener_estadisticas_generales(titanic_df)\n",
        "\n",
        "# Mostrar resultados\n",
        "print(\"\\n\" + \"=\" * 40)\n",
        "print(\"📈 ESTADÍSTICAS CALCULADAS\")\n",
        "print(\"=\" * 40)\n",
        "for key, value in estadisticas.items():\n",
        "    print(f\"{key}: {value}\")"
      ],
      "metadata": {
        "colab": {
          "base_uri": "https://localhost:8080/"
        },
        "id": "T3djvOKAMKLH",
        "outputId": "79eade34-93ce-4892-dfbf-e87ec7728245"
      },
      "execution_count": null,
      "outputs": [
        {
          "output_type": "stream",
          "name": "stdout",
          "text": [
            "🔍 Ejecutando análisis general...\n",
            "\n",
            "========================================\n",
            "📈 ESTADÍSTICAS CALCULADAS\n",
            "========================================\n",
            "total_pasajeros: None\n",
            "total_columnas: None\n",
            "tipos_datos: None\n",
            "tasa_supervivencia: None\n"
          ]
        }
      ]
    },
    {
      "cell_type": "markdown",
      "source": [
        "# 📈 **EJERCICIO 2: ANÁLISIS UNIVARIABLE**"
      ],
      "metadata": {
        "id": "30pWjCQ3MiPv"
      }
    },
    {
      "cell_type": "code",
      "source": [
        "def analisis_univariable(df, columna):\n",
        "    \"\"\"\n",
        "    Realiza análisis univariable para una columna específica\n",
        "    Argumentos:\n",
        "        df (DataFrame): Dataset\n",
        "        columna (str): Nombre de la columna a analizar\n",
        "    Retorna:\n",
        "        dict: Estadísticas univariables\n",
        "    \"\"\"\n",
        "    stats = {}\n",
        "\n",
        "    # TODO 2.1: Obtener tipo de dato de la columna\n",
        "    stats['tipo_dato'] = None  # ← COMPLETAR\n",
        "\n",
        "    if df[columna].dtype in ['int64', 'float64']:\n",
        "        # Para variables numéricas\n",
        "        # TODO 2.2: Calcular medidas de tendencia central\n",
        "        stats['media'] = None      # ← COMPLETAR\n",
        "        stats['mediana'] = None    # ← COMPLETAR\n",
        "        stats['moda'] = None       # ← COMPLETAR\n",
        "\n",
        "        # TODO 2.3: Calcular medidas de dispersión\n",
        "        stats['desviacion_std'] = None  # ← COMPLETAR\n",
        "        stats['rango'] = None           # ← COMPLETAR\n",
        "        stats['q1'] = None              # ← COMPLETAR\n",
        "        stats['q3'] = None              # ← COMPLETAR\n",
        "        stats['IQR'] = None             # ← COMPLETAR\n",
        "\n",
        "    else:\n",
        "        # Para variables categóricas\n",
        "        # TODO 2.4: Calcular frecuencias\n",
        "        stats['valores_unicos'] = None     # ← COMPLETAR\n",
        "        stats['frecuencias'] = None        # ← COMPLETAR\n",
        "        stats['valor_mas_frecuente'] = None # ← COMPLETAR\n",
        "\n",
        "    return stats"
      ],
      "metadata": {
        "id": "yijxPuqxMdSf"
      },
      "execution_count": null,
      "outputs": []
    },
    {
      "cell_type": "code",
      "source": [
        "def visualizar_univariable(df, columna):\n",
        "    \"\"\"\n",
        "    Crea visualización para análisis univariable\n",
        "    \"\"\"\n",
        "    fig, (ax1, ax2) = plt.subplots(1, 2, figsize=(12, 4))\n",
        "\n",
        "    if df[columna].dtype in ['int64', 'float64']:\n",
        "        # TODO 2.5: Crear histograma y boxplot para numéricas\n",
        "        # Histograma\n",
        "        ax1.hist(None, bins=20, alpha=0.7, edgecolor='black')  # ← COMPLETAR\n",
        "        ax1.set_title(f'Distribución de {columna}')\n",
        "        ax1.set_xlabel(columna)\n",
        "        ax1.set_ylabel('Frecuencia')\n",
        "\n",
        "        # Boxplot\n",
        "        ax2.boxplot(None)  # ← COMPLETAR\n",
        "        ax2.set_title(f'Boxplot de {columna}')\n",
        "        ax2.set_ylabel(columna)\n",
        "\n",
        "    else:\n",
        "        # TODO 2.6: Crear gráfico de barras para categóricas\n",
        "        counts = None  # ← COMPLETAR\n",
        "        counts.plot(kind='bar', ax=ax1)\n",
        "        ax1.set_title(f'Frecuencia de {columna}')\n",
        "        ax1.set_xlabel(columna)\n",
        "        ax1.set_ylabel('Frecuencia')\n",
        "        plt.xticks(rotation=45)\n",
        "\n",
        "        # Pie chart\n",
        "        top_categories = counts.head(5)\n",
        "        ax2.pie(top_categories.values, labels=top_categories.index, autopct='%1.1f%%')\n",
        "        ax2.set_title(f'Top 5 categorías - {columna}')\n",
        "\n",
        "    plt.tight_layout()\n",
        "    plt.show()"
      ],
      "metadata": {
        "id": "nEHvG1dQNrPH"
      },
      "execution_count": null,
      "outputs": []
    },
    {
      "cell_type": "code",
      "source": [
        "# Análisis para variables específicas\n",
        "print(\"🔍 ANÁLISIS UNIVARIABLE\")\n",
        "variables_analizar = ['age', 'fare', 'sex', 'pclass']\n",
        "\n",
        "for var in variables_analizar:\n",
        "    if var in titanic_df.columns:\n",
        "        print(f\"\\n\" + \"=\"*50)\n",
        "        print(f\"📊 ANÁLISIS DE: {var.upper()}\")\n",
        "        print(\"=\"*50)\n",
        "\n",
        "        stats = analisis_univariable(titanic_df, var)\n",
        "        print(\"Estadísticas:\")\n",
        "        for key, value in stats.items():\n",
        "            print(f\"  {key}: {value}\")\n",
        "\n",
        "        visualizar_univariable(titanic_df, var)\n",
        "    else:\n",
        "        print(f\"❌ Columna '{var}' no encontrada\")"
      ],
      "metadata": {
        "id": "hOBc7FnWNt7F"
      },
      "execution_count": null,
      "outputs": []
    },
    {
      "cell_type": "markdown",
      "source": [
        "# 🔄 **EJERCICIO 3: ANÁLISIS MULTIVARIABLE**"
      ],
      "metadata": {
        "id": "loS7_awKN08W"
      }
    },
    {
      "cell_type": "code",
      "source": [
        "def analisis_multivariable(df):\n",
        "    \"\"\"\n",
        "    Realiza análisis de relaciones entre variables\n",
        "    \"\"\"\n",
        "    print(\"🔍 INICIANDO ANÁLISIS MULTIVARIABLE\")\n",
        "\n",
        "    # TODO 3.1: Matriz de correlación para variables numéricas\n",
        "    print(\"1. MATRIZ DE CORRELACIÓN:\")\n",
        "    numeric_cols = df.select_dtypes(include=[np.number]).columns\n",
        "    correlation_matrix = None  # ← COMPLETAR\n",
        "    print(correlation_matrix)\n",
        "\n",
        "    # Visualizar matriz de correlación\n",
        "    plt.figure(figsize=(10, 8))\n",
        "    sns.heatmap(None, annot=True, cmap='coolwarm', center=0)  # ← COMPLETAR\n",
        "    plt.title('Matriz de Correlación - Variables Numéricas')\n",
        "    plt.show()\n",
        "\n",
        "    # TODO 3.2: Supervivencia por clase y género\n",
        "    print(\"\\n2. SUPERVIVENCIA POR CLASE Y GÉNERO:\")\n",
        "    survival_pivot = df.pivot_table(\n",
        "        values='survived',\n",
        "        index='pclass',\n",
        "        columns='sex',\n",
        "        aggfunc='mean'\n",
        "    )\n",
        "    print(survival_pivot)\n",
        "\n",
        "    # Visualizar\n",
        "    plt.figure(figsize=(10, 6))\n",
        "    survival_pivot.plot(kind='bar')\n",
        "    plt.title('Tasa de Supervivencia por Clase y Género')\n",
        "    plt.ylabel('Tasa de Supervivencia')\n",
        "    plt.xlabel('Clase')\n",
        "    plt.legend(title='Género')\n",
        "    plt.show()\n",
        "\n",
        "    # TODO 3.3: Distribución de edad por supervivencia y clase\n",
        "    print(\"\\n3. DISTRIBUCIÓN DE EDAD POR SUPERVIVENCIA:\")\n",
        "    plt.figure(figsize=(12, 6))\n",
        "\n",
        "    # Crear subgráficos\n",
        "    fig, axes = plt.subplots(1, 2, figsize=(15, 5))\n",
        "\n",
        "    # Boxplot: Edad vs Supervivencia\n",
        "    df.boxplot(column='age', by='survived', ax=axes[0])\n",
        "    axes[0].set_title('Distribución de Edad por Supervivencia')\n",
        "\n",
        "    # Violin plot: Edad por clase y supervivencia\n",
        "    sns.violinplot(x='pclass', y='age', hue='survived',\n",
        "                   data=df, split=True, ax=axes[1])\n",
        "    axes[1].set_title('Edad por Clase y Supervivencia')\n",
        "\n",
        "    plt.tight_layout()\n",
        "    plt.show()"
      ],
      "metadata": {
        "id": "BcrbLsQVN6k9"
      },
      "execution_count": null,
      "outputs": []
    },
    {
      "cell_type": "code",
      "source": [
        "# Ejecutar análisis multivariable\n",
        "analisis_multivariable(titanic_df)"
      ],
      "metadata": {
        "id": "EiUYi7q0OJeM"
      },
      "execution_count": null,
      "outputs": []
    },
    {
      "cell_type": "markdown",
      "source": [
        "# ✅ **EJERCICIO 4: REPORTE FINAL - CONCLUSIONES**"
      ],
      "metadata": {
        "id": "ICasLBhGOMuE"
      }
    },
    {
      "cell_type": "code",
      "source": [
        "def generar_reporte_final():\n",
        "    \"\"\"\n",
        "    Genera un reporte final con los hallazgos principales\n",
        "    \"\"\"\n",
        "    print(\"📋 GENERANDO REPORTE FINAL\")\n",
        "    print(\"=\" * 60)\n",
        "\n",
        "    # Hallazgos principales\n",
        "    print(\"🎯 HALLAZGOS PRINCIPALES:\")\n",
        "    print(f\"1. Total de pasajeros: {len(titanic_df)}\")\n",
        "    print(f\"2. Tasa general de supervivencia: {titanic_df['survived'].mean():.2%}\")\n",
        "    print(f\"3. Edad promedio: {titanic_df['age'].mean():.1f} años\")\n",
        "    print(f\"4. Tarifa promedio: ${titanic_df['fare'].mean():.2f}\")\n",
        "\n",
        "    # Análisis por género\n",
        "    survival_by_sex = titanic_df.groupby('sex')['survived'].mean()\n",
        "    print(f\"5. Supervivencia por género:\")\n",
        "    for sex, rate in survival_by_sex.items():\n",
        "        print(f\"   - {sex}: {rate:.2%}\")\n",
        "\n",
        "    # Análisis por clase\n",
        "    survival_by_class = titanic_df.groupby('pclass')['survived'].mean()\n",
        "    print(f\"6. Supervivencia por clase:\")\n",
        "    for pclass, rate in survival_by_class.items():\n",
        "        print(f\"   - Clase {pclass}: {rate:.2%}\")"
      ],
      "metadata": {
        "id": "60BHQqYMON5M"
      },
      "execution_count": null,
      "outputs": []
    },
    {
      "cell_type": "code",
      "source": [
        "# Generar reporte\n",
        "generar_reporte_final()"
      ],
      "metadata": {
        "id": "FO2iuVA_PCzE"
      },
      "execution_count": null,
      "outputs": []
    },
    {
      "cell_type": "markdown",
      "source": [
        "# 🚀 ¡TALLER FINALIZADO!\""
      ],
      "metadata": {
        "id": "iiTD50NHPUsM"
      }
    }
  ]
}